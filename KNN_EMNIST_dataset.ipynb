{
  "nbformat": 4,
  "nbformat_minor": 0,
  "metadata": {
    "colab": {
      "provenance": [],
      "include_colab_link": true
    },
    "kernelspec": {
      "name": "python3",
      "display_name": "Python 3"
    },
    "language_info": {
      "name": "python"
    }
  },
  "cells": [
    {
      "cell_type": "markdown",
      "metadata": {
        "id": "view-in-github",
        "colab_type": "text"
      },
      "source": [
        "<a href=\"https://colab.research.google.com/github/kelseykyla/knn_emnist/blob/main/KNN_EMNIST_dataset.ipynb\" target=\"_parent\"><img src=\"https://colab.research.google.com/assets/colab-badge.svg\" alt=\"Open In Colab\"/></a>"
      ]
    },
    {
      "cell_type": "code",
      "execution_count": null,
      "metadata": {
        "id": "Ymyanf_Iw-Gf"
      },
      "outputs": [],
      "source": [
        "# import necessary\n",
        "import pandas as pd\n",
        "import numpy as np\n",
        "import matplotlib.pyplot as plt\n",
        "import seaborn as sns\n",
        "from sklearn.datasets import fetch_openml\n",
        "from sklearn.model_selection import train_test_split\n",
        "from sklearn.neighbors import KNeighborsClassifier\n",
        "from sklearn.metrics import accuracy_score, classification_report, confusion_matrix"
      ]
    },
    {
      "cell_type": "markdown",
      "source": [
        "# Load the Dataset\n"
      ],
      "metadata": {
        "id": "Adp6t8MIyZFa"
      }
    },
    {
      "cell_type": "code",
      "source": [
        "from os import name\n",
        "# load the Emnist dataset\n",
        "mnist_data = fetch_openml('mnist_784', version = 1)\n",
        "\n",
        "# Convert the X and y to DataFrame\n",
        "X = pd.DataFrame(mnist_data.data, columns=mnist_data.feature_names) # converts the data into a DataFrame\n",
        "y = pd.Series(mnist_data.target, name='Target') # converts the target variable to a series.\n",
        "\n",
        "# Display the shape of X and y\n",
        "print(f\"Shape of X: {X.shape}\")\n",
        "print(f\"Shape of y: {y.shape}\")\n",
        "\n",
        "# Print the first five rows of the Dataset\n",
        "print(\"\\n\\nFirst five rows of X:\\n\")\n",
        "print(X.head())\n",
        "\n",
        "print(\"\\nFirst five rows of y:\\n\")\n",
        "print(y.head())"
      ],
      "metadata": {
        "colab": {
          "base_uri": "https://localhost:8080/"
        },
        "id": "6D7sl8XNydBL",
        "outputId": "c0b3c3ad-4a72-459b-b6f1-5a7af8579fd8"
      },
      "execution_count": null,
      "outputs": [
        {
          "output_type": "stream",
          "name": "stderr",
          "text": [
            "/usr/local/lib/python3.10/dist-packages/sklearn/datasets/_openml.py:968: FutureWarning: The default value of `parser` will change from `'liac-arff'` to `'auto'` in 1.4. You can set `parser='auto'` to silence this warning. Therefore, an `ImportError` will be raised from 1.4 if the dataset is dense and pandas is not installed. Note that the pandas parser may return different data types. See the Notes Section in fetch_openml's API doc for details.\n",
            "  warn(\n"
          ]
        },
        {
          "output_type": "stream",
          "name": "stdout",
          "text": [
            "Shape of X: (70000, 784)\n",
            "Shape of y: (70000,)\n",
            "\n",
            "\n",
            "First five rows of X:\n",
            "\n",
            "   pixel1  pixel2  pixel3  pixel4  pixel5  pixel6  pixel7  pixel8  pixel9  \\\n",
            "0     0.0     0.0     0.0     0.0     0.0     0.0     0.0     0.0     0.0   \n",
            "1     0.0     0.0     0.0     0.0     0.0     0.0     0.0     0.0     0.0   \n",
            "2     0.0     0.0     0.0     0.0     0.0     0.0     0.0     0.0     0.0   \n",
            "3     0.0     0.0     0.0     0.0     0.0     0.0     0.0     0.0     0.0   \n",
            "4     0.0     0.0     0.0     0.0     0.0     0.0     0.0     0.0     0.0   \n",
            "\n",
            "   pixel10  ...  pixel775  pixel776  pixel777  pixel778  pixel779  pixel780  \\\n",
            "0      0.0  ...       0.0       0.0       0.0       0.0       0.0       0.0   \n",
            "1      0.0  ...       0.0       0.0       0.0       0.0       0.0       0.0   \n",
            "2      0.0  ...       0.0       0.0       0.0       0.0       0.0       0.0   \n",
            "3      0.0  ...       0.0       0.0       0.0       0.0       0.0       0.0   \n",
            "4      0.0  ...       0.0       0.0       0.0       0.0       0.0       0.0   \n",
            "\n",
            "   pixel781  pixel782  pixel783  pixel784  \n",
            "0       0.0       0.0       0.0       0.0  \n",
            "1       0.0       0.0       0.0       0.0  \n",
            "2       0.0       0.0       0.0       0.0  \n",
            "3       0.0       0.0       0.0       0.0  \n",
            "4       0.0       0.0       0.0       0.0  \n",
            "\n",
            "[5 rows x 784 columns]\n",
            "\n",
            "First five rows of y:\n",
            "\n",
            "0    5\n",
            "1    0\n",
            "2    4\n",
            "3    1\n",
            "4    9\n",
            "Name: Target, dtype: category\n",
            "Categories (10, object): ['0', '1', '2', '3', ..., '6', '7', '8', '9']\n"
          ]
        }
      ]
    },
    {
      "cell_type": "markdown",
      "source": [
        "# Standardize and split the dataset"
      ],
      "metadata": {
        "id": "WQ9DMXkW0uh3"
      }
    },
    {
      "cell_type": "code",
      "source": [
        "from sklearn.preprocessing import StandardScaler\n",
        "# Split the dataset\n",
        "X_train, X_test, y_train, y_test = train_test_split(X, y, test_size = 0.2, random_state=42)\n",
        "\n",
        "# Standardize the Training set and transform Test set\n",
        "scaler = StandardScaler()\n",
        "X_train = scaler.fit_transform(X_train)\n",
        "\n",
        "# Transfrom the Test data\n",
        "X_test = scaler.transform(X_test)\n",
        "\n",
        "# Print the shape of the Training set and Test set\n",
        "print(f'The shape of the X train: {X_train.shape}\\n')\n",
        "print(f'The shape of the X test: {X_test.shape}\\n')"
      ],
      "metadata": {
        "colab": {
          "base_uri": "https://localhost:8080/"
        },
        "id": "cgBo_axhz29h",
        "outputId": "fc3b8e49-87bd-4389-e541-92f365cf0339"
      },
      "execution_count": null,
      "outputs": [
        {
          "output_type": "stream",
          "name": "stdout",
          "text": [
            "The shape of the X train: (56000, 784)\n",
            "\n",
            "The shape of the X test: (14000, 784)\n",
            "\n"
          ]
        }
      ]
    },
    {
      "cell_type": "code",
      "source": [
        "# Function to plot sample images\n",
        "def plot_sample_images(X, y, sample_size=16):\n",
        "    plt.figure(figsize=(6, 8))\n",
        "    for i in range(sample_size):\n",
        "        plt.subplot(4, 4, i + 1)\n",
        "        image = X.iloc[i].values.reshape(28, 28)\n",
        "        plt.imshow(image, cmap='gray')\n",
        "        plt.title(f\"Label: {y.iloc[i]}\")\n",
        "        plt.axis('off')\n",
        "    plt.show()\n",
        "\n",
        "# Plotting sample images from the dataset\n",
        "plot_sample_images(X, y, sample_size=16)\n",
        "\n",
        "# Function to plot distribution of target labels\n",
        "def plot_target_distribution(y):\n",
        "    plt.figure(figsize=(8, 6))\n",
        "    sns.countplot(x=y, palette='viridis')\n",
        "    plt.title(\"Distribution of Target Labels\")\n",
        "    plt.xlabel(\"Digit\")\n",
        "    plt.ylabel(\"Count\")\n",
        "    plt.show()\n",
        "\n",
        "# Plotting the distribution of target labels\n",
        "plot_target_distribution(y)"
      ],
      "metadata": {
        "colab": {
          "base_uri": "https://localhost:8080/",
          "height": 1000
        },
        "id": "LEZqDuwv9RT3",
        "outputId": "cb3b1d4c-1e01-450d-8eee-2171dd26979d"
      },
      "execution_count": null,
      "outputs": [
        {
          "output_type": "display_data",
          "data": {
            "text/plain": [
              "<Figure size 600x800 with 16 Axes>"
            ],
            "image/png": "[encoded data removed]"
          },
          "metadata": {}
        },
        {
          "output_type": "stream",
          "name": "stderr",
          "text": [
            "<ipython-input-30-8827ec771198>:18: FutureWarning: \n",
            "\n",
            "Passing `palette` without assigning `hue` is deprecated and will be removed in v0.14.0. Assign the `x` variable to `hue` and set `legend=False` for the same effect.\n",
            "\n",
            "  sns.countplot(x=y, palette='viridis')\n"
          ]
        },
        {
          "output_type": "display_data",
          "data": {
            "text/plain": [
              "<Figure size 800x600 with 1 Axes>"
            ],
            "image/png": "[encoded data removed]"
          },
          "metadata": {}
        }
      ]
    },
    {
      "cell_type": "markdown",
      "source": [
        "# Create and train the model\n"
      ],
      "metadata": {
        "id": "ZJK-4KA17QEo"
      }
    },
    {
      "cell_type": "code",
      "source": [
        "# Specify the neighbors\n",
        "n_neighbors = 3\n",
        "\n",
        "# Initialize the model\n",
        "knn = KNeighborsClassifier(n_neighbors)\n",
        "\n",
        "# Fit the model to the training set\n",
        "knn.fit(X_train, y_train)\n",
        "\n",
        "# Predict the model\n",
        "y_pred = knn.predict(X_test)\n",
        "\n",
        "# Print the predicted value\n",
        "print(f\"Prediction for the model is: {y_pred}\")"
      ],
      "metadata": {
        "colab": {
          "base_uri": "https://localhost:8080/"
        },
        "id": "xcuGP--X3wg9",
        "outputId": "87335690-e2cc-4999-bd67-19e7d9e2820e"
      },
      "execution_count": null,
      "outputs": [
        {
          "output_type": "stream",
          "name": "stdout",
          "text": [
            "Prediction for the model is: ['8' '4' '3' ... '2' '7' '1']\n"
          ]
        }
      ]
    },
    {
      "cell_type": "markdown",
      "source": [
        "# Evaluate the model performance"
      ],
      "metadata": {
        "id": "2Pj0quiy8I4P"
      }
    },
    {
      "cell_type": "code",
      "source": [
        "# Create a confusion matrix\n",
        "con_matrix = confusion_matrix(y_test, y_pred)\n",
        "print(f\"The confusion Matrix is as follows:\\n\\n {con_matrix}\")\n",
        "\n",
        "# Evaluate models Accuracy\n",
        "acc_score = accuracy_score(y_test, y_pred)\n",
        "print(f\"\\n\\nThe accuracy of the KNN model is: {acc_score}\\n\")\n",
        "\n",
        "# Calculate the Classification report\n",
        "class_report = classification_report(y_test, y_pred)\n",
        "print(f\"The summary of the classification report: \\n{class_report}\")"
      ],
      "metadata": {
        "colab": {
          "base_uri": "https://localhost:8080/"
        },
        "id": "vxpTKH547ytj",
        "outputId": "3a415f53-666b-46df-d08b-587df0563fdc"
      },
      "execution_count": null,
      "outputs": [
        {
          "output_type": "stream",
          "name": "stdout",
          "text": [
            "The confusion Matrix is as follows:\n",
            "\n",
            " [[1318    0    4    4    0    5   11    0    1    0]\n",
            " [   0 1587    8    0    2    0    1    1    0    1]\n",
            " [  12   16 1298   18    4    4    7   10    8    3]\n",
            " [   3    5   16 1361    2   11    1   14   10   10]\n",
            " [   0   10   13    1 1212    1    3    4    2   49]\n",
            " [   6    2    1   29    7 1198   14    0   11    5]\n",
            " [  16    4    4    1    4    9 1357    0    1    0]\n",
            " [   3   18    7    4   20    1    0 1394    1   55]\n",
            " [  13   17   11   27    6   31    4   12 1220   16]\n",
            " [   5    5    9   15   23    4    0   48    5 1306]]\n",
            "\n",
            "\n",
            "The accuracy of the KNN model is: 0.9465\n",
            "\n",
            "The summary of the classification report: \n",
            "              precision    recall  f1-score   support\n",
            "\n",
            "           0       0.96      0.98      0.97      1343\n",
            "           1       0.95      0.99      0.97      1600\n",
            "           2       0.95      0.94      0.94      1380\n",
            "           3       0.93      0.95      0.94      1433\n",
            "           4       0.95      0.94      0.94      1295\n",
            "           5       0.95      0.94      0.94      1273\n",
            "           6       0.97      0.97      0.97      1396\n",
            "           7       0.94      0.93      0.93      1503\n",
            "           8       0.97      0.90      0.93      1357\n",
            "           9       0.90      0.92      0.91      1420\n",
            "\n",
            "    accuracy                           0.95     14000\n",
            "   macro avg       0.95      0.95      0.95     14000\n",
            "weighted avg       0.95      0.95      0.95     14000\n",
            "\n"
          ]
        }
      ]
    },
    {
      "cell_type": "markdown",
      "source": [
        "The KNN model shows strong performance on the MNIST dataset, with high accuracy and balanced precision and recall across most classes. The confusion matrix visualization highlights the specific areas where the model may need improvement, such as reducing the misclassification of certain digits.\n"
      ],
      "metadata": {
        "id": "OGpCLep0AEya"
      }
    }
  ]
}